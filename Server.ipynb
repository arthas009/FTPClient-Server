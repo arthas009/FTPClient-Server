{
 "cells": [
  {
   "cell_type": "code",
   "execution_count": 1,
   "metadata": {},
   "outputs": [
    {
     "name": "stdout",
     "output_type": "stream",
     "text": [
      "done\n"
     ]
    }
   ],
   "source": [
    "from pyftpdlib.authorizers import DummyAuthorizer\n",
    "from pyftpdlib.handlers import FTPHandler\n",
    "from pyftpdlib.servers import FTPServer\n",
    "\n",
    "print(\"done\")"
   ]
  },
  {
   "cell_type": "code",
   "execution_count": 2,
   "metadata": {},
   "outputs": [
    {
     "name": "stdout",
     "output_type": "stream",
     "text": [
      "done\n"
     ]
    },
    {
     "name": "stderr",
     "output_type": "stream",
     "text": [
      "C:\\Users\\yusuf\\Anaconda3\\lib\\site-packages\\pyftpdlib\\authorizers.py:244: RuntimeWarning: write permissions assigned to anonymous user.\n",
      "  RuntimeWarning)\n"
     ]
    }
   ],
   "source": [
    "authorizer = DummyAuthorizer()\n",
    "# Replace 'C:/uzakdizin' directory with your own directory\nauthorizer.add_user(\"user\", \"12345\", \"C:/uzakdizin\", perm=\"elradfmw\")\n",
    "authorizer.add_anonymous(\"C:/uzakdizin\", perm=\"elradfmw\")\n",
    "\n",
    "print(\"done\")"
   ]
  },
  {
   "cell_type": "code",
   "execution_count": 3,
   "metadata": {},
   "outputs": [],
   "source": [
    "handler = FTPHandler\n",
    "handler.authorizer = authorizer\n",
    "\n"
   ]
  },
  {
   "cell_type": "code",
   "execution_count": null,
   "metadata": {},
   "outputs": [
    {
     "name": "stderr",
     "output_type": "stream",
     "text": [
      "[I 2019-03-31 16:46:44] >>> starting FTP server on 127.0.0.1:1656, pid=15116 <<<\n",
      "[I 2019-03-31 16:46:44] concurrency model: async\n",
      "[I 2019-03-31 16:46:44] masquerade (NAT) address: None\n",
      "[I 2019-03-31 16:46:44] passive ports: None\n"
     ]
    }
   ],
   "source": [
    "server = FTPServer((\"127.0.0.1\", 1656), handler)\n",
    "server.serve_forever()"
   ]
  },
  {
   "cell_type": "code",
   "execution_count": null,
   "metadata": {},
   "outputs": [],
   "source": []
  }
 ],
 "metadata": {
  "kernelspec": {
   "display_name": "Python 3",
   "language": "python",
   "name": "python3"
  },
  "language_info": {
   "codemirror_mode": {
    "name": "ipython",
    "version": 3
   },
   "file_extension": ".py",
   "mimetype": "text/x-python",
   "name": "python",
   "nbconvert_exporter": "python",
   "pygments_lexer": "ipython3",
   "version": "3.6.5"
  }
 },
 "nbformat": 4,
 "nbformat_minor": 2
}
